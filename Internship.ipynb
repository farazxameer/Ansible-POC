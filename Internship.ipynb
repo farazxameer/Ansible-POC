{
  "nbformat": 4,
  "nbformat_minor": 0,
  "metadata": {
    "colab": {
      "name": "Internship.ipynb",
      "provenance": [],
      "collapsed_sections": [],
      "include_colab_link": true
    },
    "kernelspec": {
      "name": "python3",
      "display_name": "Python 3"
    }
  },
  "cells": [
    {
      "cell_type": "markdown",
      "metadata": {
        "id": "view-in-github",
        "colab_type": "text"
      },
      "source": [
        "<a href=\"https://colab.research.google.com/github/ejazahmedmohammad/Ansible-POC/blob/master/Internship.ipynb\" target=\"_parent\"><img src=\"https://colab.research.google.com/assets/colab-badge.svg\" alt=\"Open In Colab\"/></a>"
      ]
    },
    {
      "cell_type": "code",
      "metadata": {
        "id": "hTa_XbLXU9H2",
        "colab_type": "code",
        "colab": {}
      },
      "source": [
        "number_of_parts = 8\n",
        "partList = [i for i in range(number_of_parts)]\n",
        "Num_direction=10"
      ],
      "execution_count": 34,
      "outputs": []
    },
    {
      "cell_type": "code",
      "metadata": {
        "id": "0AgpMiOqUQx-",
        "colab_type": "code",
        "colab": {}
      },
      "source": [
        "stabiltiy = [[0,\t1,\t0,\t0,\t2,\t2,\t2,\t2],\n",
        "[0\t,0\t,2\t,0\t,0\t,0\t,1\t,1],\n",
        "[0\t,2\t,0\t,2\t,0\t,0\t,0\t,0],\n",
        "[0\t,0\t,2\t,0\t,0\t,0\t,0\t,0],\n",
        "[2\t,0\t,0\t,0\t,0\t,0\t,0\t,0],\n",
        "[2\t,0\t,0\t,0\t,0\t,0\t,0\t,0],\n",
        "[2\t,0\t,0\t,0\t,0\t,0\t,0,\t0],\n",
        "[2\t,0\t,0\t,0\t,0\t,0\t,0,\t0],\n",
        "]\n"
      ],
      "execution_count": 21,
      "outputs": []
    },
    {
      "cell_type": "code",
      "metadata": {
        "id": "GycIQlMN2o0m",
        "colab_type": "code",
        "colab": {}
      },
      "source": [
        "GFOD = [[1000000,\t110010110,\t10110010110,\t110010110,\t10000000000,\t10000000000,\t100,\t100],\n",
        "    [100111001,\t1000000,\t10000000,\t10100111100,\t11100111110\t,11100111110\t,100\t,100],\n",
        "    [1100111001,\t1000,\t1000000,\t1000,\t11100111110,\t11100111110,\t11110111110,\t11110111110],\n",
        "\t\t[100111001,\t1110110100,\t10000000,\t1000000,\t11100111110,\t11100111110,\t1110111110,\t1110111110],\n",
        "\t\t[1000000000,\t11110110101,\t11110110101,\t11110110101,\t1000000,\t11010111110,\t11110111110,\t11110111110],\n",
        "\t\t[1000000000,\t11110110101,\t11110110101,\t11110110101,\t11110101101,\t1000000,\t11110111110,\t11110111110],\n",
        "\t\t[100000,\t100000,\t11110111101,\t10110111101,\t11110111101,\t11110111101,\t1000000,\t11010111110],\n",
        "\t\t[100000,\t100000,\t11110111101,\t10110111101,\t11110111101,\t11110111101,\t11110101101,\t1000000]\n",
        "]\n",
        "\n",
        "GFODTraspose =  [[GFOD[j][i] for j in range(len(GFOD))] for i in range(len(GFOD[0]))]"
      ],
      "execution_count": 17,
      "outputs": []
    },
    {
      "cell_type": "code",
      "metadata": {
        "id": "IgkW9lHOk3JZ",
        "colab_type": "code",
        "colab": {}
      },
      "source": [
        "def AND(A, B):\n",
        "    A = str(A)[::-1]\n",
        "    B = str(B)[::-1]\n",
        "    res = ''\n",
        "    smallest_size = min(len(A), len(B))\n",
        "    largest_size = max(len(A), len(B))\n",
        "    for i in range(smallest_size):\n",
        "        if A[i] == '0' or B[i] == '0':\n",
        "            res += '0'\n",
        "        else:\n",
        "            res += '1'\n",
        "    res += abs(largest_size - smallest_size) * '0'\n",
        "    return res[::-1]"
      ],
      "execution_count": 16,
      "outputs": []
    },
    {
      "cell_type": "code",
      "metadata": {
        "id": "EBjFuXqj2llu",
        "colab_type": "code",
        "colab": {
          "base_uri": "https://localhost:8080/",
          "height": 33
        },
        "outputId": "319c4591-b53c-4f10-b634-eb36176224ca"
      },
      "source": [
        "arrangement = [4,5,0,3,2,7,6,1]\n",
        "inital_vector= \"1\"*Num_direction\n",
        "def geometricFeasibilityCheck(arrangement):\n",
        "  feasible = True\n",
        "  for i in range(0,len(arrangement)-1):\n",
        "    dir = inital_vector\n",
        "    for j in range(i+1,len(arrangement)  ):\n",
        "      #print( \"j,GFOD \",j,\"     \" ,GFODTraspose[arrangement[j]][arrangement[i]])\n",
        "      dir = AND(dir , GFODTraspose[arrangement[j]][arrangement[i]])\n",
        "      if dir.find(\"1\") == -1:\n",
        "        feasible=False\n",
        "        break\n",
        "  return feasible\n",
        "\n",
        "geometricFeasibilityCheck(arrangement)"
      ],
      "execution_count": 44,
      "outputs": [
        {
          "output_type": "execute_result",
          "data": {
            "text/plain": [
              "True"
            ]
          },
          "metadata": {
            "tags": []
          },
          "execution_count": 44
        }
      ]
    },
    {
      "cell_type": "code",
      "metadata": {
        "id": "nNratkMfT-O0",
        "colab_type": "code",
        "colab": {}
      },
      "source": [
        "def isStable(i,arrangement):\n",
        "  if i==len(arrangement) - 1 :\n",
        "    return True\n",
        "  for j in range(i+1,len(arrangement)):\n",
        "    if stabiltiy[arrangement[j]][arrangement[i]]==1 or stabiltiy[arrangement[j]][arrangement[i]]== 2 :\n",
        "      return True\n",
        "  return False\n"
      ],
      "execution_count": 38,
      "outputs": []
    },
    {
      "cell_type": "code",
      "metadata": {
        "id": "1u1GUjkOUffU",
        "colab_type": "code",
        "colab": {
          "base_uri": "https://localhost:8080/",
          "height": 33
        },
        "outputId": "16ffa73f-331c-4179-c86b-9be357981c4f"
      },
      "source": [
        "arrangement = [4,5,0,3,2,7,6,1]\n",
        "feasible= \n",
        "for i in range(0,len(arrangement)-1):\n",
        "  if not isStable(i,arrangement) : \n",
        "    feasible=False\n",
        "    print(\"arrengment is not feasible at \",arrangement[i])\n",
        "    break\n",
        "if feasible:\n",
        "  print(\"arrengment is feasible\")\n",
        "else:\n",
        "  print(\"not feasible\")"
      ],
      "execution_count": 40,
      "outputs": [
        {
          "output_type": "stream",
          "text": [
            "arrengment is feasible\n"
          ],
          "name": "stdout"
        }
      ]
    },
    {
      "cell_type": "code",
      "metadata": {
        "id": "G9nR7MC6XwIH",
        "colab_type": "code",
        "colab": {
          "base_uri": "https://localhost:8080/",
          "height": 33
        },
        "outputId": "763cb2b8-74e5-44f9-fea4-3a0c59dfaa48"
      },
      "source": [
        "def stabiltyChecker(arrangement):\n",
        "  feasible=True\n",
        "  for i in range(0,len(arrangement)-1):\n",
        "    f = False\n",
        "    for j in range(i+1,len(arrangement)):\n",
        "      if stabiltiy[arrangement[j]][arrangement[i]]==1 or stabiltiy[arrangement[j]][arrangement[i]]== 2 :\n",
        "        f = True\n",
        "        break\n",
        "    if not f:\n",
        "      feasible=False\n",
        "      break\n",
        "  return feasible\n",
        "\n",
        "stabiltyChecker([4,5,0,3,2,7,6,1])"
      ],
      "execution_count": 49,
      "outputs": [
        {
          "output_type": "execute_result",
          "data": {
            "text/plain": [
              "True"
            ]
          },
          "metadata": {
            "tags": []
          },
          "execution_count": 49
        }
      ]
    },
    {
      "cell_type": "code",
      "metadata": {
        "id": "yAxa0gI4U2hk",
        "colab_type": "code",
        "colab": {}
      },
      "source": [
        "def createDisassembly(partList):\n",
        "    arrangement = random.sample(partList, len(partList))\n",
        "    return arrangement\n",
        "\n",
        "def initialPopulation(popSize, partList):\n",
        "    population = []\n",
        "    for i in range(0, popSize):\n",
        "        population.append(createDisassembly(partList))\n",
        "    return population"
      ],
      "execution_count": null,
      "outputs": []
    }
  ]
}